{
 "cells": [
  {
   "cell_type": "markdown",
   "id": "a3ed64b4",
   "metadata": {},
   "source": [
    "# IS 362 – Week 14 Discussion Assignment\n",
    "\n",
    "# YouTube Recommendation Algorithm"
   ]
  },
  {
   "cell_type": "markdown",
   "id": "08f21b12",
   "metadata": {},
   "source": [
    "**YouTube** is a social media and online video sharing platform owned by Google, acquired in 2006. The video sharing platform has enabled people to watch videos of their choice, many of which are hosted and shared by content creators. The platform goes beyond the standard practices of television when it was first launched, offering a variety of content with different genres and categories; such video categories on YouTube would include – but not limited to – video clips, movie trailers, music videos, documentaries, and vlogs. Established news, media, and entertainment corportations have made their presence on YouTube as well, reaching greater audiences worldwide.\n",
    "\n",
    "Since the implementation of its **recommender system** (recommendation algorithm) in 2008, its able to customize a user's YouTube page with videos that would likely pique their interest, based on their web activity on a browser or their Google Account."
   ]
  },
  {
   "cell_type": "markdown",
   "id": "052626a7",
   "metadata": {},
   "source": [
    "## Scenario Design Analysis"
   ]
  },
  {
   "cell_type": "markdown",
   "id": "f55b2db7",
   "metadata": {},
   "source": [
    "The goal of **YouTube**, and by extension **Google**, is to create a personalized online experience for their users. Upon the user's consent, which can be adjusted in their account settings. Google may record some (if not most) of their online activity, especially on YouTube, depending on the videos they watch and/or browse. Though for those that do not have a Google account, the website will primarily use the website's cookies. Then, the algorithm would analyze the user's behavior from the information it gathered, in order to provide effective video suggestions, in which its content and genre may correlate with data of the user's preferences."
   ]
  },
  {
   "cell_type": "markdown",
   "id": "26552f98",
   "metadata": {},
   "source": [
    "### 1) Who are your target users?\n",
    "\n",
    "The algorithm targets a variety people across different demographics, in which some channels will belong to different niches (topics). This can vary depending on the user's behavior on the platform. This would include what they would watch, what they *don't* watch, what they search for, the like and dislikes they give on videos, and (if they are logged in) 'not interested' feedback (Oladipo, 2024). The algorithm tries to determine what kind of audience the user is, and try to suggest a video belonging to certain categories a user is interested in, depending on their web activity and (if logged in) their YouTube search and video history. \n",
    "\n",
    "When categorizing a video for personalized suggestions, the algorithm tries to determine the categories a video belongs in depending on its content, and then try to suggest the video to the user as they browse on the platform.\n",
    "\n",
    "Sometimes the algorithm may also recommend a video depending on its performance, whether its's engaging to its targeted audience(s) - based on its likes, comments, shares, and subscriptions to its channel - and whether or not it's popular within its partiular niche (Goncalves, 2024)."
   ]
  },
  {
   "cell_type": "markdown",
   "id": "f8d88602",
   "metadata": {},
   "source": [
    "### 2) What are their key goals?\n",
    "\n",
    "As stated before, the primary goal of the YouTube algorithm is to create a personalized experience for its users. The platform developers want to streamline consumer experience by collecting user data (at their consent), analyzing video content and data to categorize and then recommend to their users. Simultaneosuly, providing specific videos to targeted audiences will also benefit content developers in return, especially if their content is monetized, in which they could capitalize on their videos' performance. "
   ]
  },
  {
   "cell_type": "markdown",
   "id": "6ebd863b",
   "metadata": {},
   "source": [
    "### 3) How can you help them accomplish those goals?\n",
    "\n",
    "To help them accomplish these goals, it is crucial to provid consumer feedback about the algorithm, as well as spread awareness regarding its functions, to help the developers refine its capabilities to suggest and recommend appropriate content to its intended audience. Because sometimes the algorithm may suggest videos that would be inappropriate for the audience on the account/device it was customized for. Thus, it is imperative that users raise awareness among the YouTube community and the development team itself to help refine and improve the algorithm to offer better, yet appropriate, experiences for its users in the foreseeable future."
   ]
  },
  {
   "cell_type": "markdown",
   "id": "b83dcf33",
   "metadata": {},
   "source": [
    "## References:\n",
    "\n",
    "- Goncalves, G. (2024, September 5). *7 Facts about the Youtube algorithm and its updates*. Mkt4Edu. https://www.mkt4edu.com/en/blog/facts-about-the-youtube-algorithm\n",
    "- Oladipo, T. (2024, January 12). *A 2024 Guide to the YouTube Algorithm: Everything You Need to Know to Boost Your Content. Buffer*. https://buffer.com/resources/youtube-algorithm/ "
   ]
  }
 ],
 "metadata": {
  "kernelspec": {
   "display_name": "Python 3",
   "language": "python",
   "name": "python3"
  },
  "language_info": {
   "codemirror_mode": {
    "name": "ipython",
    "version": 3
   },
   "file_extension": ".py",
   "mimetype": "text/x-python",
   "name": "python",
   "nbconvert_exporter": "python",
   "pygments_lexer": "ipython3",
   "version": "3.8.10"
  }
 },
 "nbformat": 4,
 "nbformat_minor": 5
}
